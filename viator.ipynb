{
 "cells": [
  {
   "cell_type": "code",
   "execution_count": 1,
   "id": "a3bb9be1-e204-4a9a-9ec3-87c0ffaa0b0c",
   "metadata": {},
   "outputs": [],
   "source": [
    "import requests\n",
    "import json\n",
    "import os\n",
    "from dotenv import load_dotenv\n",
    "from pymongo.mongo_client import MongoClient\n",
    "from pymongo.server_api import ServerApi"
   ]
  },
  {
   "cell_type": "code",
   "execution_count": 2,
   "id": "5023b263-09d5-46ff-bddd-b3c6894c5e4f",
   "metadata": {},
   "outputs": [
    {
     "data": {
      "text/plain": [
       "True"
      ]
     },
     "execution_count": 2,
     "metadata": {},
     "output_type": "execute_result"
    }
   ],
   "source": [
    "load_dotenv()"
   ]
  },
  {
   "cell_type": "code",
   "execution_count": 3,
   "id": "0b8e0ac8-0df9-4a4f-bf66-4d87a6aa5cb8",
   "metadata": {},
   "outputs": [],
   "source": [
    "def get_viator_destinations():\n",
    "    \"\"\"\n",
    "    Call the Viator destinations endpoint\n",
    "        \n",
    "    Returns:\n",
    "        dict: JSON response from the Viator API\n",
    "    \"\"\"\n",
    "    # API endpoint\n",
    "    url = \"https://api.viator.com/partner/destinations\"\n",
    "    \n",
    "    # Headers\n",
    "    headers = {\n",
    "        \"Accept\": \"application/json;version=2.0\",\n",
    "        \"Accept-Language\": \"en-US\",\n",
    "        \"exp-api-key\": os.getenv(\"VIATOR_API_KEY\")\n",
    "    }\n",
    "    \n",
    "    # Make the request\n",
    "    response = requests.get(url, headers=headers) #, params=params)\n",
    "    \n",
    "    # Check if request was successful\n",
    "    if response.status_code == 200:\n",
    "        return response.json()\n",
    "    else:\n",
    "        print(f\"Error: {response.status_code}\")\n",
    "        print(response.text)\n",
    "        return None"
   ]
  },
  {
   "cell_type": "code",
   "execution_count": 4,
   "id": "58f0118d-c421-41f8-a195-a2974ab17e39",
   "metadata": {},
   "outputs": [],
   "source": [
    "destinations = get_viator_destinations()\n",
    "# destinations"
   ]
  },
  {
   "cell_type": "code",
   "execution_count": 5,
   "id": "999ca65f-432f-4651-809b-93a31ce5c289",
   "metadata": {},
   "outputs": [
    {
     "data": {
      "text/plain": [
       "3350"
      ]
     },
     "execution_count": 5,
     "metadata": {},
     "output_type": "execute_result"
    }
   ],
   "source": [
    "destinations['totalCount']"
   ]
  },
  {
   "cell_type": "code",
   "execution_count": 13,
   "id": "e454ffb8-62d1-4b6f-b410-fca328801450",
   "metadata": {},
   "outputs": [],
   "source": [
    "# TODO: add pagination when more than 50 products.\n",
    "def get_viator_products(destination_id):\n",
    "    \"\"\"\n",
    "    Call the Viator destinations endpoint\n",
    "        \n",
    "    Returns:\n",
    "        dict: JSON response from the Viator API\n",
    "    \"\"\"\n",
    "    # API endpoint\n",
    "    url = \"https://api.viator.com/partner/products/search\"\n",
    "    \n",
    "    # Headers\n",
    "    headers = {\n",
    "        \"Accept\": \"application/json;version=2.0\",\n",
    "        \"Accept-Language\": \"en-US\",\n",
    "        \"exp-api-key\": os.getenv(\"VIATOR_API_KEY\"),\n",
    "    }\n",
    "\n",
    "    payload = {\n",
    "        \"filtering\": {\n",
    "            \"destination\": str(destination_id)\n",
    "        },\n",
    "        \"currency\": \"USD\",\n",
    "        \"pagination\": {\n",
    "            \"count\": 50 # 50 max\n",
    "        }\n",
    "    }\n",
    "    \n",
    "    # Make the request\n",
    "    response = requests.post(url, headers=headers, json=payload)\n",
    "    \n",
    "    # Check if request was successful\n",
    "    if response.status_code == 200:\n",
    "        return response.json()\n",
    "    else:\n",
    "        print(f\"Error: {response.status_code}\")\n",
    "        print(response.text)\n",
    "        return None"
   ]
  },
  {
   "cell_type": "code",
   "execution_count": 14,
   "id": "31d9022e-9490-49f1-8964-af6c48246873",
   "metadata": {},
   "outputs": [
    {
     "name": "stdout",
     "output_type": "stream",
     "text": [
      "1\n",
      "[{'destinationId': 26395, 'name': 'Aspen', 'type': 'CITY', 'parentDestinationId': 273, 'lookupId': '8.77.273.26395', 'destinationUrl': 'https://www.viator.com/x/d26395-ttd?mcid=42383&pid=P00247797&medium=api&api_version=2.0', 'defaultCurrencyCode': 'USD', 'timeZone': 'America/Denver', 'iataCodes': ['ASE'], 'countryCallingCode': '+1', 'languages': ['en-US'], 'center': {'latitude': 39.191098, 'longitude': -106.817539}}]\n"
     ]
    },
    {
     "data": {
      "text/plain": [
       "26395"
      ]
     },
     "execution_count": 14,
     "metadata": {},
     "output_type": "execute_result"
    }
   ],
   "source": [
    "location_name = 'Aspen'\n",
    "\n",
    "aspen_locations = [\n",
    "    d\n",
    "    for d in destinations['destinations']\n",
    "    if location_name.lower() in d['name'].lower()\n",
    "]\n",
    "assert 1 == len(aspen_locations)\n",
    "print(aspen_locations)\n",
    "aspen_location_id = aspen_locations[0]['destinationId']\n",
    "aspen_location_id"
   ]
  },
  {
   "cell_type": "code",
   "execution_count": 18,
   "id": "eccbafe7-3647-406d-9ddc-e39010297d37",
   "metadata": {},
   "outputs": [],
   "source": [
    "products = get_viator_products(aspen_location_id)\n",
    "# products"
   ]
  },
  {
   "cell_type": "code",
   "execution_count": 16,
   "id": "c79400f4-e281-4d01-bc22-d77700bbcc53",
   "metadata": {},
   "outputs": [
    {
     "data": {
      "text/plain": [
       "13"
      ]
     },
     "execution_count": 16,
     "metadata": {},
     "output_type": "execute_result"
    }
   ],
   "source": [
    "len(products['products'])"
   ]
  },
  {
   "cell_type": "code",
   "execution_count": 11,
   "id": "2d289ebe-e3e6-4eb8-ad9a-30941bea65e4",
   "metadata": {},
   "outputs": [],
   "source": [
    "data_type = 'viator_product'\n",
    "limit = None\n",
    "products_data = products['products']"
   ]
  },
  {
   "cell_type": "code",
   "execution_count": 12,
   "id": "2907d9c9-8b4f-48cc-a298-6d32168abf03",
   "metadata": {},
   "outputs": [
    {
     "name": "stdout",
     "output_type": "stream",
     "text": [
      "Loading data for viator_product into viator-products\n",
      "Pinged your deployment. You successfully connected to MongoDB!\n",
      "\n",
      "Result for productCode 74828P1: UpdateResult({'n': 1, 'electionId': ObjectId('7fffffff00000000000002cf'), 'opTime': {'ts': Timestamp(1744496561, 1), 't': 719}, 'nModified': 0, 'ok': 1.0, '$clusterTime': {'clusterTime': Timestamp(1744496561, 1), 'signature': {'hash': b'\\x9d\\xbe\\xb3\\x9d)w\\xbeH\\x1f\\xb7_\\xaa\\x8f\\x92\\xb0\\xfd\\xb0\\x8c$B', 'keyId': 7434008547316203532}}, 'operationTime': Timestamp(1744496561, 1), 'updatedExisting': True}, acknowledged=True)\n",
      "\n",
      "Result for productCode 147508P175: UpdateResult({'n': 1, 'electionId': ObjectId('7fffffff00000000000002cf'), 'opTime': {'ts': Timestamp(1744496561, 6), 't': 719}, 'nModified': 0, 'ok': 1.0, '$clusterTime': {'clusterTime': Timestamp(1744496561, 6), 'signature': {'hash': b'\\x9d\\xbe\\xb3\\x9d)w\\xbeH\\x1f\\xb7_\\xaa\\x8f\\x92\\xb0\\xfd\\xb0\\x8c$B', 'keyId': 7434008547316203532}}, 'operationTime': Timestamp(1744496561, 6), 'updatedExisting': True}, acknowledged=True)\n",
      "\n",
      "Result for productCode 74828P4: UpdateResult({'n': 1, 'electionId': ObjectId('7fffffff00000000000002cf'), 'opTime': {'ts': Timestamp(1744496561, 12), 't': 719}, 'upserted': ObjectId('67fae7b13f1ba814be05eb52'), 'nModified': 0, 'ok': 1.0, '$clusterTime': {'clusterTime': Timestamp(1744496561, 12), 'signature': {'hash': b'\\x9d\\xbe\\xb3\\x9d)w\\xbeH\\x1f\\xb7_\\xaa\\x8f\\x92\\xb0\\xfd\\xb0\\x8c$B', 'keyId': 7434008547316203532}}, 'operationTime': Timestamp(1744496561, 12), 'updatedExisting': False}, acknowledged=True)\n",
      "\n",
      "Result for productCode 104204P37: UpdateResult({'n': 1, 'electionId': ObjectId('7fffffff00000000000002cf'), 'opTime': {'ts': Timestamp(1744496561, 16), 't': 719}, 'upserted': ObjectId('67fae7b13f1ba814be05eb53'), 'nModified': 0, 'ok': 1.0, '$clusterTime': {'clusterTime': Timestamp(1744496561, 16), 'signature': {'hash': b'\\x9d\\xbe\\xb3\\x9d)w\\xbeH\\x1f\\xb7_\\xaa\\x8f\\x92\\xb0\\xfd\\xb0\\x8c$B', 'keyId': 7434008547316203532}}, 'operationTime': Timestamp(1744496561, 16), 'updatedExisting': False}, acknowledged=True)\n",
      "\n",
      "Result for productCode 74828P2: UpdateResult({'n': 1, 'electionId': ObjectId('7fffffff00000000000002cf'), 'opTime': {'ts': Timestamp(1744496561, 22), 't': 719}, 'upserted': ObjectId('67fae7b13f1ba814be05eb54'), 'nModified': 0, 'ok': 1.0, '$clusterTime': {'clusterTime': Timestamp(1744496561, 22), 'signature': {'hash': b'\\x9d\\xbe\\xb3\\x9d)w\\xbeH\\x1f\\xb7_\\xaa\\x8f\\x92\\xb0\\xfd\\xb0\\x8c$B', 'keyId': 7434008547316203532}}, 'operationTime': Timestamp(1744496561, 22), 'updatedExisting': False}, acknowledged=True)\n",
      "\n",
      "Result for productCode 293540P3: UpdateResult({'n': 1, 'electionId': ObjectId('7fffffff00000000000002cf'), 'opTime': {'ts': Timestamp(1744496561, 25), 't': 719}, 'upserted': ObjectId('67fae7b13f1ba814be05eb55'), 'nModified': 0, 'ok': 1.0, '$clusterTime': {'clusterTime': Timestamp(1744496561, 25), 'signature': {'hash': b'\\x9d\\xbe\\xb3\\x9d)w\\xbeH\\x1f\\xb7_\\xaa\\x8f\\x92\\xb0\\xfd\\xb0\\x8c$B', 'keyId': 7434008547316203532}}, 'operationTime': Timestamp(1744496561, 25), 'updatedExisting': False}, acknowledged=True)\n",
      "\n",
      "Result for productCode 74828P3: UpdateResult({'n': 1, 'electionId': ObjectId('7fffffff00000000000002cf'), 'opTime': {'ts': Timestamp(1744496561, 28), 't': 719}, 'upserted': ObjectId('67fae7b13f1ba814be05eb56'), 'nModified': 0, 'ok': 1.0, '$clusterTime': {'clusterTime': Timestamp(1744496561, 28), 'signature': {'hash': b'\\x9d\\xbe\\xb3\\x9d)w\\xbeH\\x1f\\xb7_\\xaa\\x8f\\x92\\xb0\\xfd\\xb0\\x8c$B', 'keyId': 7434008547316203532}}, 'operationTime': Timestamp(1744496561, 28), 'updatedExisting': False}, acknowledged=True)\n",
      "\n",
      "Result for productCode 72189P6: UpdateResult({'n': 1, 'electionId': ObjectId('7fffffff00000000000002cf'), 'opTime': {'ts': Timestamp(1744496561, 32), 't': 719}, 'upserted': ObjectId('67fae7b13f1ba814be05eb57'), 'nModified': 0, 'ok': 1.0, '$clusterTime': {'clusterTime': Timestamp(1744496561, 32), 'signature': {'hash': b'\\x9d\\xbe\\xb3\\x9d)w\\xbeH\\x1f\\xb7_\\xaa\\x8f\\x92\\xb0\\xfd\\xb0\\x8c$B', 'keyId': 7434008547316203532}}, 'operationTime': Timestamp(1744496561, 32), 'updatedExisting': False}, acknowledged=True)\n",
      "\n",
      "Result for productCode 74828P5: UpdateResult({'n': 1, 'electionId': ObjectId('7fffffff00000000000002cf'), 'opTime': {'ts': Timestamp(1744496561, 35), 't': 719}, 'upserted': ObjectId('67fae7b13f1ba814be05eb58'), 'nModified': 0, 'ok': 1.0, '$clusterTime': {'clusterTime': Timestamp(1744496561, 35), 'signature': {'hash': b'\\x9d\\xbe\\xb3\\x9d)w\\xbeH\\x1f\\xb7_\\xaa\\x8f\\x92\\xb0\\xfd\\xb0\\x8c$B', 'keyId': 7434008547316203532}}, 'operationTime': Timestamp(1744496561, 35), 'updatedExisting': False}, acknowledged=True)\n",
      "\n",
      "Result for productCode 200006P106: UpdateResult({'n': 1, 'electionId': ObjectId('7fffffff00000000000002cf'), 'opTime': {'ts': Timestamp(1744496561, 44), 't': 719}, 'upserted': ObjectId('67fae7b13f1ba814be05eb59'), 'nModified': 0, 'ok': 1.0, '$clusterTime': {'clusterTime': Timestamp(1744496561, 44), 'signature': {'hash': b'\\x9d\\xbe\\xb3\\x9d)w\\xbeH\\x1f\\xb7_\\xaa\\x8f\\x92\\xb0\\xfd\\xb0\\x8c$B', 'keyId': 7434008547316203532}}, 'operationTime': Timestamp(1744496561, 44), 'updatedExisting': False}, acknowledged=True)\n",
      "\n",
      "Result for productCode 35947P27: UpdateResult({'n': 1, 'electionId': ObjectId('7fffffff00000000000002cf'), 'opTime': {'ts': Timestamp(1744496562, 2), 't': 719}, 'upserted': ObjectId('67fae7b23f1ba814be05eb5a'), 'nModified': 0, 'ok': 1.0, '$clusterTime': {'clusterTime': Timestamp(1744496562, 2), 'signature': {'hash': b'\\xd1\\x834\\xb2\\x88|\\xb0\\xe4\\x978\\xe6\\xeb\\x01\\xf0\\x8cg\\xa0\\xde\\xa8\\x85', 'keyId': 7434008547316203532}}, 'operationTime': Timestamp(1744496562, 2), 'updatedExisting': False}, acknowledged=True)\n",
      "\n",
      "Result for productCode 128285P1479: UpdateResult({'n': 1, 'electionId': ObjectId('7fffffff00000000000002cf'), 'opTime': {'ts': Timestamp(1744496562, 4), 't': 719}, 'upserted': ObjectId('67fae7b23f1ba814be05eb5b'), 'nModified': 0, 'ok': 1.0, '$clusterTime': {'clusterTime': Timestamp(1744496562, 4), 'signature': {'hash': b'\\xd1\\x834\\xb2\\x88|\\xb0\\xe4\\x978\\xe6\\xeb\\x01\\xf0\\x8cg\\xa0\\xde\\xa8\\x85', 'keyId': 7434008547316203532}}, 'operationTime': Timestamp(1744496562, 4), 'updatedExisting': False}, acknowledged=True)\n",
      "\n",
      "Result for productCode 172188P151: UpdateResult({'n': 1, 'electionId': ObjectId('7fffffff00000000000002cf'), 'opTime': {'ts': Timestamp(1744496562, 10), 't': 719}, 'upserted': ObjectId('67fae7b23f1ba814be05eb5c'), 'nModified': 0, 'ok': 1.0, '$clusterTime': {'clusterTime': Timestamp(1744496562, 10), 'signature': {'hash': b'\\xd1\\x834\\xb2\\x88|\\xb0\\xe4\\x978\\xe6\\xeb\\x01\\xf0\\x8cg\\xa0\\xde\\xa8\\x85', 'keyId': 7434008547316203532}}, 'operationTime': Timestamp(1744496562, 10), 'updatedExisting': False}, acknowledged=True)\n",
      "\n"
     ]
    }
   ],
   "source": [
    "collections_data = {\n",
    "    'viator_product': {\n",
    "        \"collection_name\": \"viator-products\",\n",
    "    },\n",
    "}\n",
    "\n",
    "print(f\"Loading data for {data_type} into {collections_data[data_type]['collection_name']}\")\n",
    "collection_data = collections_data[data_type]\n",
    "\n",
    "if limit:\n",
    "    print(f\"Limiting to a maximum of {limit} IDs\")\n",
    "\n",
    "# Get MongoDB credentials from environment variables\n",
    "username = os.getenv(\"MONGODB_USERNAME\")\n",
    "password = os.getenv(\"MONGODB_PASSWORD\")\n",
    "cluster = os.getenv(\"MONGODB_CLUSTER\")\n",
    "\n",
    "# Construct MongoDB URI\n",
    "uri = f\"mongodb+srv://{username}:{password}@{cluster}/?retryWrites=true&w=majority&appName=Viammo-Cluster-alpha\"\n",
    "\n",
    "# Create a new client and connect to the server\n",
    "client = MongoClient(uri, server_api=ServerApi('1'))\n",
    "\n",
    "# Send a ping to confirm a successful connection\n",
    "client.admin.command('ping')\n",
    "print(\"Pinged your deployment. You successfully connected to MongoDB!\\n\")\n",
    "\n",
    "db = client[\"viammo-alpha\"]\n",
    "collection_name = collection_data[\"collection_name\"]\n",
    "collection = db[collection_name]\n",
    "\n",
    "products_data = products_data[:limit] if limit else products_data\n",
    "for product in products_data:\n",
    "  productCode = product['productCode']\n",
    "\n",
    "  # upsert into mongo\n",
    "  result = collection.update_one(\n",
    "    {\"productCode\": productCode},\n",
    "    {\"$set\": product},\n",
    "    upsert=True\n",
    "  )\n",
    "  print(f\"Result for productCode {productCode}: {result}\\n\")\n",
    "\n",
    "client.close()\n"
   ]
  },
  {
   "cell_type": "code",
   "execution_count": null,
   "id": "cc05a0a5-3447-48ce-9e3a-a5a6eeee55ad",
   "metadata": {},
   "outputs": [],
   "source": []
  },
  {
   "cell_type": "code",
   "execution_count": null,
   "id": "8ef1b5fe-4320-4b35-b990-6b8ab346d315",
   "metadata": {},
   "outputs": [],
   "source": []
  },
  {
   "cell_type": "code",
   "execution_count": null,
   "id": "48271b01-af73-4da2-990a-1f6cb1b9f922",
   "metadata": {},
   "outputs": [],
   "source": []
  },
  {
   "cell_type": "code",
   "execution_count": null,
   "id": "9e6b0f70-a767-4870-90e8-b9dae9ed2221",
   "metadata": {},
   "outputs": [],
   "source": []
  },
  {
   "cell_type": "code",
   "execution_count": null,
   "id": "2bc29050-d6eb-48d1-b350-0afa08b36cb3",
   "metadata": {},
   "outputs": [],
   "source": []
  },
  {
   "cell_type": "code",
   "execution_count": null,
   "id": "1cb2afd9-17b1-4dff-8b75-428bc7cc2674",
   "metadata": {},
   "outputs": [],
   "source": []
  },
  {
   "cell_type": "code",
   "execution_count": null,
   "id": "2b55dece-e4e4-4643-9723-4f1fbd448234",
   "metadata": {},
   "outputs": [],
   "source": []
  }
 ],
 "metadata": {
  "kernelspec": {
   "display_name": "Python 3 (ipykernel)",
   "language": "python",
   "name": "python3"
  },
  "language_info": {
   "codemirror_mode": {
    "name": "ipython",
    "version": 3
   },
   "file_extension": ".py",
   "mimetype": "text/x-python",
   "name": "python",
   "nbconvert_exporter": "python",
   "pygments_lexer": "ipython3",
   "version": "3.11.11"
  }
 },
 "nbformat": 4,
 "nbformat_minor": 5
}
